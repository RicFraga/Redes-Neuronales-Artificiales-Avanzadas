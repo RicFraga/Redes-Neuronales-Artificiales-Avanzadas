{
 "cells": [
  {
   "cell_type": "markdown",
   "metadata": {
    "colab_type": "text",
    "id": "IyNd9nhU-v89"
   },
   "source": [
    "# Segmentación de Figuras\n",
    "\n",
    "- Color\n",
    "    <img src='Colors.png' />\n",
    "- Forma  \n",
    "    <img src='form.png' />\n",
    "\n",
    "## Importar  librerias "
   ]
  },
  {
   "cell_type": "code",
   "execution_count": 1,
   "metadata": {
    "colab": {
     "autoexec": {
      "startup": false,
      "wait_interval": 0
     }
    },
    "colab_type": "code",
    "id": "19BNjm8L-v8_"
   },
   "outputs": [],
   "source": [
    "import numpy as np\n",
    "import matplotlib.pyplot as plt\n",
    "import matplotlib.image as mpimg\n",
    "%matplotlib inline\n",
    "from PIL import Image,ImageOps\n",
    "import os\n",
    "import math\n",
    "import json\n",
    "from io import StringIO\n",
    "import skimage as ski\n",
    "from skimage import data, io, filters"
   ]
  },
  {
   "cell_type": "markdown",
   "metadata": {
    "colab_type": "text",
    "id": "lFX87KhG-v9G"
   },
   "source": [
    "### Lectura de archivo de imágenes "
   ]
  },
  {
   "cell_type": "code",
   "execution_count": 2,
   "metadata": {
    "colab": {
     "autoexec": {
      "startup": false,
      "wait_interval": 0
     }
    },
    "colab_type": "code",
    "id": "H-u4-q6o-v9H"
   },
   "outputs": [],
   "source": [
    "Blue=os.path.join(\"images/Azul.png\")\n",
    "Black=os.path.join(\"images/Negro.png\")\n",
    "Red=os.path.join(\"images/Rojo.png\")"
   ]
  },
  {
   "cell_type": "code",
   "execution_count": 3,
   "metadata": {
    "colab": {
     "autoexec": {
      "startup": false,
      "wait_interval": 0
     }
    },
    "colab_type": "code",
    "id": "aDOYN2jA-v9M"
   },
   "outputs": [],
   "source": [
    "Bl = Image.open(Blue)\n",
    "Bk = Image.open(Black)\n",
    "Rd = Image.open(Red)"
   ]
  },
  {
   "cell_type": "markdown",
   "metadata": {
    "colab_type": "text",
    "id": "Vi7ydUBl-v9Q"
   },
   "source": [
    "## Analizamos los datos "
   ]
  },
  {
   "cell_type": "code",
   "execution_count": 4,
   "metadata": {
    "colab": {
     "autoexec": {
      "startup": false,
      "wait_interval": 0
     }
    },
    "colab_type": "code",
    "id": "kuedIy-T-v9Q",
    "outputId": "99402104-a03f-4731-b17d-8c004234c61f"
   },
   "outputs": [
    {
     "data": {
      "image/png": "[encoded data removed]",
      "text/plain": [
       "<PIL.PngImagePlugin.PngImageFile image mode=RGBA size=200x200 at 0x7FA2B037C3D0>"
      ]
     },
     "execution_count": 4,
     "metadata": {},
     "output_type": "execute_result"
    }
   ],
   "source": [
    "Bk"
   ]
  },
  {
   "cell_type": "code",
   "execution_count": 5,
   "metadata": {
    "colab": {
     "autoexec": {
      "startup": false,
      "wait_interval": 0
     }
    },
    "colab_type": "code",
    "id": "-XqzDmsf-v9Y",
    "outputId": "db18d113-f1a3-4ea8-9069-2888df35dc4a"
   },
   "outputs": [
    {
     "data": {
      "text/plain": [
       "(200, 200, 4)"
      ]
     },
     "execution_count": 5,
     "metadata": {},
     "output_type": "execute_result"
    }
   ],
   "source": [
    "# Transformando a un arreglo \n",
    "np.array(Bk).shape"
   ]
  },
  {
   "cell_type": "code",
   "execution_count": 6,
   "metadata": {
    "colab": {
     "autoexec": {
      "startup": false,
      "wait_interval": 0
     }
    },
    "colab_type": "code",
    "id": "vRcLgzDM-v9d",
    "outputId": "c2b56bb9-07c3-409b-e7e2-6b7f5f3c65c9"
   },
   "outputs": [
    {
     "data": {
      "text/plain": [
       "('R', 'G', 'B', 'A')"
      ]
     },
     "execution_count": 6,
     "metadata": {},
     "output_type": "execute_result"
    }
   ],
   "source": [
    "# Verificando los canales \n",
    "Bk.getbands()"
   ]
  },
  {
   "cell_type": "code",
   "execution_count": 7,
   "metadata": {
    "colab": {
     "autoexec": {
      "startup": false,
      "wait_interval": 0
     }
    },
    "colab_type": "code",
    "id": "dplj8pB2-v9h"
   },
   "outputs": [],
   "source": [
    "# Removiendo el canal alpha \n",
    "ABk=np.array(Bk)[:,:,0:3]\n",
    "ABl=np.array(Bl)[:,:,0:3]\n",
    "ARd=np.array(Rd)[:,:,0:3]"
   ]
  },
  {
   "cell_type": "code",
   "execution_count": 8,
   "metadata": {
    "colab": {
     "autoexec": {
      "startup": false,
      "wait_interval": 0
     }
    },
    "colab_type": "code",
    "id": "T4emeHtb-v9l",
    "outputId": "143f2092-bbfd-4d85-cdaa-e8613d4333cb"
   },
   "outputs": [
    {
     "data": {
      "text/plain": [
       "(200, 200, 3)"
      ]
     },
     "execution_count": 8,
     "metadata": {},
     "output_type": "execute_result"
    }
   ],
   "source": [
    "# Verificando la forma\n",
    "ABk.shape"
   ]
  },
  {
   "cell_type": "code",
   "execution_count": 9,
   "metadata": {
    "colab": {
     "autoexec": {
      "startup": false,
      "wait_interval": 0
     }
    },
    "colab_type": "code",
    "id": "82FZKGGd-v9r",
    "outputId": "f5623caf-2469-4d1b-e044-3439752ef4a0"
   },
   "outputs": [
    {
     "data": {
      "image/png": "[encoded data removed]",
      "text/plain": [
       "<Figure size 432x288 with 1 Axes>"
      ]
     },
     "metadata": {
      "needs_background": "light"
     },
     "output_type": "display_data"
    },
    {
     "data": {
      "image/png": "[encoded data removed]",
      "text/plain": [
       "<Figure size 432x288 with 1 Axes>"
      ]
     },
     "metadata": {
      "needs_background": "light"
     },
     "output_type": "display_data"
    },
    {
     "data": {
      "image/png": "[encoded data removed]",
      "text/plain": [
       "<Figure size 432x288 with 1 Axes>"
      ]
     },
     "metadata": {
      "needs_background": "light"
     },
     "output_type": "display_data"
    }
   ],
   "source": [
    "# Graficando las imágenes \n",
    "plt.imshow(ABk)\n",
    "plt.show()\n",
    "plt.imshow(ABl)\n",
    "plt.show()\n",
    "plt.imshow(ARd)\n",
    "plt.show()"
   ]
  },
  {
   "cell_type": "markdown",
   "metadata": {
    "colab_type": "text",
    "id": "uvk1IhdZ-v9v"
   },
   "source": [
    "# Detectando el color por valor del pixel \n",
    "Extrayendo las características "
   ]
  },
  {
   "cell_type": "code",
   "execution_count": 10,
   "metadata": {
    "colab": {
     "autoexec": {
      "startup": false,
      "wait_interval": 0
     }
    },
    "colab_type": "code",
    "id": "-sSEEiRP-v9w",
    "outputId": "dc2ac4c2-5626-4506-d87c-9f7df5b7ed24"
   },
   "outputs": [
    {
     "name": "stdout",
     "output_type": "stream",
     "text": [
      "[0 0 0]\n",
      "[  0   0 255]\n",
      "[255   0   0]\n"
     ]
    }
   ],
   "source": [
    "print(ABk[100,100])\n",
    "print(ABl[100,100])\n",
    "print(ARd[100,100])"
   ]
  },
  {
   "cell_type": "markdown",
   "metadata": {
    "colab_type": "text",
    "id": "dTqwg37w-v92"
   },
   "source": [
    " **nota**: si los valores son tan distintivos no es necesario aplicar una red neuronal "
   ]
  },
  {
   "cell_type": "markdown",
   "metadata": {
    "colab_type": "text",
    "id": "sjmSs8UT-v93"
   },
   "source": [
    "# Clasificador de color"
   ]
  },
  {
   "cell_type": "code",
   "execution_count": 11,
   "metadata": {
    "colab": {
     "autoexec": {
      "startup": false,
      "wait_interval": 0
     }
    },
    "colab_type": "code",
    "id": "MbCb2xMe-v95"
   },
   "outputs": [],
   "source": [
    "#importar sklearn\n",
    "from sklearn.neural_network import MLPClassifier"
   ]
  },
  {
   "cell_type": "markdown",
   "metadata": {
    "colab_type": "text",
    "id": "2BJpKg0T-v98"
   },
   "source": [
    "## Preparando los datos "
   ]
  },
  {
   "cell_type": "markdown",
   "metadata": {
    "colab_type": "text",
    "id": "bWF3gHc9-v99"
   },
   "source": [
    "Para este primer caso usaremos aprendizaje supervisado \n",
    "Los datos de entrenamiento consisten en pares ordenados donde hay una lista de entradas y una lista de salidas \n",
    "\n",
    "### entradas\n",
    "x=[[0,0,0],[1,0,0],[0,0,1]]\n",
    "\n",
    "### Salidas \n",
    "\n",
    "(Necesario codificarlas) \n",
    "- negro=1,0,0\n",
    "- rojo=0,1,0\n",
    "- azul=0,0,1\n",
    "\n",
    "y=[[1,0,0],[0,1,0],[0,0,1]]\n",
    "\n"
   ]
  },
  {
   "cell_type": "code",
   "execution_count": 12,
   "metadata": {
    "colab": {
     "autoexec": {
      "startup": false,
      "wait_interval": 0
     }
    },
    "colab_type": "code",
    "id": "4ls3lm6N-v9-"
   },
   "outputs": [],
   "source": [
    "def Lector_de_imagenes(Train_dir,jsonfile):\n",
    "    Train_data=[]\n",
    "    Tags=[]\n",
    "    with open(jsonfile) as data_file:    \n",
    "         etiquetas = json.load(data_file)\n",
    "    for img in os.listdir(Train_dir):\n",
    "        try : \n",
    "            imgtag=etiquetas[img]\n",
    "            Tags.append(imgtag)\n",
    "        except :\n",
    "            print(\"Tag error: \"+img)\n",
    "        try : \n",
    "            imgpath=os.path.join(Train_dir,img)\n",
    "            img = Image.open(imgpath)\n",
    "            Train_data.append(np.array(img)[:,:,0:3][100,100]) \n",
    "        except :\n",
    "            print(\"file error: \"+img)\n",
    "        #np.save(file+\".npy\",Train_data)\n",
    "    return np.array(Train_data),Tags "
   ]
  },
  {
   "cell_type": "code",
   "execution_count": 13,
   "metadata": {
    "colab": {
     "autoexec": {
      "startup": false,
      "wait_interval": 0
     }
    },
    "colab_type": "code",
    "id": "8TA0QGGG-v-B",
    "outputId": "a1a0c3b2-81f7-467e-a17c-1967a2bddf82"
   },
   "outputs": [
    {
     "name": "stdout",
     "output_type": "stream",
     "text": [
      "Tag error: .ipynb_checkpoints\n",
      "file error: .ipynb_checkpoints\n",
      "Tag error: desktop.ini\n",
      "file error: desktop.ini\n"
     ]
    }
   ],
   "source": [
    "X_train,y_train=Lector_de_imagenes(\"images/colores/Train\",\"Train_color.json\")"
   ]
  },
  {
   "cell_type": "code",
   "execution_count": 14,
   "metadata": {
    "colab": {
     "autoexec": {
      "startup": false,
      "wait_interval": 0
     }
    },
    "colab_type": "code",
    "id": "lK6mCmAa-v-F",
    "outputId": "7a5c7e55-97b6-40c2-f7cf-709179218899"
   },
   "outputs": [
    {
     "name": "stdout",
     "output_type": "stream",
     "text": [
      "Tag error: .ipynb_checkpoints\n",
      "file error: .ipynb_checkpoints\n",
      "Tag error: desktop.ini\n",
      "file error: desktop.ini\n"
     ]
    }
   ],
   "source": [
    "X_test,y_test=Lector_de_imagenes(\"images/colores/Test\",\"Test_color.json\")"
   ]
  },
  {
   "cell_type": "code",
   "execution_count": 15,
   "metadata": {},
   "outputs": [
    {
     "data": {
      "text/plain": [
       "array([[255,   0,  51],\n",
       "       [  0,  51, 255],\n",
       "       [  0,   0, 102],\n",
       "       [153,   0,   0],\n",
       "       [ 17,  17,  17],\n",
       "       [  0,  51, 153],\n",
       "       [ 30,  30,  30],\n",
       "       [  0,  51, 204],\n",
       "       [  0, 153, 255],\n",
       "       [255,   0,   0],\n",
       "       [136,   0,   0],\n",
       "       [ 51,  51,  51],\n",
       "       [221,   0,   0],\n",
       "       [ 15,  18,  14],\n",
       "       [  0,   0,   0],\n",
       "       [255,  43,  43],\n",
       "       [ 44,  44,  44],\n",
       "       [  0,   0, 153]], dtype=uint8)"
      ]
     },
     "execution_count": 15,
     "metadata": {},
     "output_type": "execute_result"
    }
   ],
   "source": [
    "X_train"
   ]
  },
  {
   "cell_type": "code",
   "execution_count": 16,
   "metadata": {},
   "outputs": [
    {
     "data": {
      "text/plain": [
       "[[0, 1, 0],\n",
       " [0, 0, 1],\n",
       " [0, 0, 1],\n",
       " [0, 1, 0],\n",
       " [1, 0, 0],\n",
       " [0, 0, 1],\n",
       " [1, 0, 0],\n",
       " [0, 0, 1],\n",
       " [0, 0, 1],\n",
       " [0, 1, 0],\n",
       " [0, 1, 0],\n",
       " [1, 0, 0],\n",
       " [0, 1, 0],\n",
       " [1, 0, 0],\n",
       " [1, 0, 0],\n",
       " [0, 1, 0],\n",
       " [1, 0, 0],\n",
       " [0, 0, 1]]"
      ]
     },
     "execution_count": 16,
     "metadata": {},
     "output_type": "execute_result"
    }
   ],
   "source": [
    "y_train"
   ]
  },
  {
   "cell_type": "markdown",
   "metadata": {
    "colab_type": "text",
    "id": "AZiPJGpm-v-J"
   },
   "source": [
    "## Ajustar Parámetros del modelo"
   ]
  },
  {
   "cell_type": "code",
   "execution_count": 17,
   "metadata": {
    "colab": {
     "autoexec": {
      "startup": false,
      "wait_interval": 0
     }
    },
    "colab_type": "code",
    "id": "4QI3MgnW-v-K"
   },
   "outputs": [],
   "source": [
    "clfcolor = MLPClassifier(solver='lbfgs', alpha=1e-5,\n",
    "                  hidden_layer_sizes=(10, 2), random_state=1)"
   ]
  },
  {
   "cell_type": "markdown",
   "metadata": {
    "colab_type": "text",
    "id": "MmlSKuqu-v-O"
   },
   "source": [
    "## Ajuste del modelo"
   ]
  },
  {
   "cell_type": "code",
   "execution_count": 18,
   "metadata": {
    "colab": {
     "autoexec": {
      "startup": false,
      "wait_interval": 0
     }
    },
    "colab_type": "code",
    "id": "eQZT_rEQ-v-P",
    "outputId": "e78e79ea-a889-433d-f8d7-6072f53b052a"
   },
   "outputs": [
    {
     "data": {
      "text/plain": [
       "MLPClassifier(alpha=1e-05, hidden_layer_sizes=(10, 2), random_state=1,\n",
       "              solver='lbfgs')"
      ]
     },
     "execution_count": 18,
     "metadata": {},
     "output_type": "execute_result"
    }
   ],
   "source": [
    "clfcolor.fit(X_train,y_train)"
   ]
  },
  {
   "cell_type": "code",
   "execution_count": 19,
   "metadata": {
    "colab": {
     "autoexec": {
      "startup": false,
      "wait_interval": 0
     }
    },
    "colab_type": "code",
    "id": "8ukCrtYx-v-T"
   },
   "outputs": [],
   "source": [
    "pred = clfcolor.predict(X_test)"
   ]
  },
  {
   "cell_type": "markdown",
   "metadata": {
    "colab_type": "text",
    "id": "ewH9MtTm-v-Y"
   },
   "source": [
    "## Evaluar al modelo "
   ]
  },
  {
   "cell_type": "code",
   "execution_count": 20,
   "metadata": {
    "colab": {
     "autoexec": {
      "startup": false,
      "wait_interval": 0
     }
    },
    "colab_type": "code",
    "id": "oVCY5tnB-v-Z"
   },
   "outputs": [],
   "source": [
    "from sklearn.metrics import accuracy_score,classification_report,confusion_matrix"
   ]
  },
  {
   "cell_type": "code",
   "execution_count": 21,
   "metadata": {
    "colab": {
     "autoexec": {
      "startup": false,
      "wait_interval": 0
     }
    },
    "colab_type": "code",
    "id": "tPF3fory-v-c"
   },
   "outputs": [],
   "source": [
    "def ClassDetector(onehot):\n",
    "    output=[]\n",
    "    for caso in onehot:\n",
    "        output.append(np.argmax(caso))\n",
    "    return output"
   ]
  },
  {
   "cell_type": "code",
   "execution_count": 22,
   "metadata": {
    "colab": {
     "autoexec": {
      "startup": false,
      "wait_interval": 0
     }
    },
    "colab_type": "code",
    "id": "OTPRntBJ-v-f"
   },
   "outputs": [],
   "source": [
    "predclass=ClassDetector(pred)\n",
    "yclass=ClassDetector(y_test)"
   ]
  },
  {
   "cell_type": "code",
   "execution_count": 23,
   "metadata": {
    "colab": {
     "autoexec": {
      "startup": false,
      "wait_interval": 0
     }
    },
    "colab_type": "code",
    "id": "S7fwhLzN-v-i",
    "outputId": "b39c260b-9d6d-4934-94bb-bd542dee0619"
   },
   "outputs": [
    {
     "name": "stdout",
     "output_type": "stream",
     "text": [
      "0.7777777777777778\n"
     ]
    }
   ],
   "source": [
    "print(accuracy_score(predclass,yclass)) "
   ]
  },
  {
   "cell_type": "code",
   "execution_count": 24,
   "metadata": {
    "colab": {
     "autoexec": {
      "startup": false,
      "wait_interval": 0
     }
    },
    "colab_type": "code",
    "id": "D6dJOiGs-v-m",
    "outputId": "ca1852da-8f69-4511-8f2b-9cb4edaaa31c"
   },
   "outputs": [
    {
     "name": "stdout",
     "output_type": "stream",
     "text": [
      "[[2 0 1]\n",
      " [0 3 0]\n",
      " [1 0 2]]\n"
     ]
    }
   ],
   "source": [
    "print(confusion_matrix(predclass,yclass))\n"
   ]
  },
  {
   "cell_type": "markdown",
   "metadata": {
    "colab_type": "text",
    "id": "nj4nkgVf-v-q"
   },
   "source": [
    "## Clasificador de forma \n",
    "### Lectura de archivo de imágenes "
   ]
  },
  {
   "cell_type": "code",
   "execution_count": 25,
   "metadata": {
    "colab": {
     "autoexec": {
      "startup": false,
      "wait_interval": 0
     }
    },
    "colab_type": "code",
    "id": "MGFDTg0C-v-r"
   },
   "outputs": [],
   "source": [
    "CR=os.path.join(\"images/circulo.png\")\n",
    "CD=os.path.join(\"images/cuadro.png\")\n",
    "TR=os.path.join(\"images/triangulo.png\")"
   ]
  },
  {
   "cell_type": "code",
   "execution_count": 26,
   "metadata": {
    "colab": {
     "autoexec": {
      "startup": false,
      "wait_interval": 0
     }
    },
    "colab_type": "code",
    "id": "BSWjKJ79-v-u"
   },
   "outputs": [],
   "source": [
    "Cir = Image.open(CR).convert('L')\n",
    "Cud = Image.open(CD).convert('L')\n",
    "Tri = Image.open(TR).convert('L')"
   ]
  },
  {
   "cell_type": "code",
   "execution_count": 27,
   "metadata": {
    "colab": {
     "autoexec": {
      "startup": false,
      "wait_interval": 0
     }
    },
    "colab_type": "code",
    "id": "i87yntS_-v-y"
   },
   "outputs": [],
   "source": [
    "# Convertir a arreglo\n",
    "ACR=np.array(Cir)\n",
    "ACD=np.array(Cud)\n",
    "ATR=np.array(Tri)"
   ]
  },
  {
   "cell_type": "code",
   "execution_count": 28,
   "metadata": {
    "colab": {
     "autoexec": {
      "startup": false,
      "wait_interval": 0
     }
    },
    "colab_type": "code",
    "id": "ysDZEJ_W-v-1",
    "outputId": "ca4de10a-400c-4dcc-a1e3-9124f48c52f5"
   },
   "outputs": [
    {
     "data": {
      "text/plain": [
       "(200, 200)"
      ]
     },
     "execution_count": 28,
     "metadata": {},
     "output_type": "execute_result"
    }
   ],
   "source": [
    "ACD.shape"
   ]
  },
  {
   "cell_type": "code",
   "execution_count": 29,
   "metadata": {
    "colab": {
     "autoexec": {
      "startup": false,
      "wait_interval": 0
     }
    },
    "colab_type": "code",
    "id": "y2osUX1r-v-5",
    "outputId": "88a0f68b-7cd0-452a-f849-c1f7a721a4b3"
   },
   "outputs": [
    {
     "data": {
      "image/png": "[encoded data removed]",
      "text/plain": [
       "<Figure size 432x288 with 1 Axes>"
      ]
     },
     "metadata": {
      "needs_background": "light"
     },
     "output_type": "display_data"
    },
    {
     "data": {
      "image/png": "[encoded data removed]",
      "text/plain": [
       "<Figure size 432x288 with 1 Axes>"
      ]
     },
     "metadata": {
      "needs_background": "light"
     },
     "output_type": "display_data"
    },
    {
     "data": {
      "image/png": "[encoded data removed]",
      "text/plain": [
       "<Figure size 432x288 with 1 Axes>"
      ]
     },
     "metadata": {
      "needs_background": "light"
     },
     "output_type": "display_data"
    }
   ],
   "source": [
    "# Graficando las imágenes \n",
    "plt.imshow(ACR,cmap='gray')\n",
    "plt.show()\n",
    "plt.imshow(ACD,cmap='gray')\n",
    "plt.show()\n",
    "plt.imshow(ATR,cmap='gray')\n",
    "plt.show()"
   ]
  },
  {
   "cell_type": "markdown",
   "metadata": {
    "colab_type": "text",
    "id": "ixV9caZV-v-8"
   },
   "source": [
    "## Determinando las características adecuadas \n",
    "¿Comó podemos  describir numéricamente la forma de las figuras?"
   ]
  },
  {
   "cell_type": "markdown",
   "metadata": {
    "colab_type": "text",
    "id": "PmxqUh-W-v-9"
   },
   "source": [
    "### Usando el área de la figura como descriptor  "
   ]
  },
  {
   "cell_type": "code",
   "execution_count": 30,
   "metadata": {
    "colab": {
     "autoexec": {
      "startup": false,
      "wait_interval": 0
     }
    },
    "colab_type": "code",
    "id": "3JGyxHLv-v--",
    "outputId": "05d78811-7aef-4e6a-e639-6d7d186b144e"
   },
   "outputs": [
    {
     "data": {
      "image/png": "[encoded data removed]",
      "text/plain": [
       "<Figure size 432x288 with 1 Axes>"
      ]
     },
     "metadata": {
      "needs_background": "light"
     },
     "output_type": "display_data"
    },
    {
     "name": "stdout",
     "output_type": "stream",
     "text": [
      "Área del cuadro en pixeles\n",
      "10000\n"
     ]
    },
    {
     "data": {
      "image/png": "[encoded data removed]",
      "text/plain": [
       "<Figure size 432x288 with 1 Axes>"
      ]
     },
     "metadata": {
      "needs_background": "light"
     },
     "output_type": "display_data"
    },
    {
     "name": "stdout",
     "output_type": "stream",
     "text": [
      "Área del Triángulo en pixeles\n",
      "4950\n"
     ]
    },
    {
     "data": {
      "image/png": "[encoded data removed]",
      "text/plain": [
       "<Figure size 432x288 with 1 Axes>"
      ]
     },
     "metadata": {
      "needs_background": "light"
     },
     "output_type": "display_data"
    },
    {
     "name": "stdout",
     "output_type": "stream",
     "text": [
      "Área del círculo en pixeles\n",
      "7772\n"
     ]
    }
   ],
   "source": [
    "# Posibles valores de intensidad en una imagen\n",
    "x=np.arange(0,256)\n",
    "# Cálculo del área del cuadrado \n",
    "hist,centers=ski.exposure.histogram(ACD)\n",
    "plt.bar(x, hist)\n",
    "plt.show()\n",
    "print(\"Área del cuadro en pixeles\")\n",
    "# Cálculo del área del triángulo \n",
    "print(hist[0])\n",
    "hist,centers=ski.exposure.histogram(ATR)\n",
    "plt.bar(x, hist)\n",
    "plt.show()\n",
    "print(\"Área del Triángulo en pixeles\")\n",
    "# Cálculo del área del círculo \n",
    "print(hist[0])\n",
    "hist,centers=ski.exposure.histogram(ACR)\n",
    "plt.bar(x, hist)\n",
    "plt.show()\n",
    "print(\"Área del círculo en pixeles\")\n",
    "print(hist[0])"
   ]
  },
  {
   "cell_type": "markdown",
   "metadata": {
    "colab_type": "text",
    "id": "M5yQi4Ze-v_D"
   },
   "source": [
    "Ventajas  de usar el área como descriptor \n",
    "- Es invariante a la posición de la figura \n",
    "\n",
    "Limitantes de usar el área como descriptor \n",
    "- Es susceptible a los cambios en el tamaño  \n",
    "- Es posible que el área de dos tipos de figuras diferentes se intersecten "
   ]
  },
  {
   "cell_type": "markdown",
   "metadata": {
    "colab_type": "text",
    "id": "WU3A75pF-v_E"
   },
   "source": [
    "## Usando el número de  esquinas como descriptor "
   ]
  },
  {
   "cell_type": "code",
   "execution_count": 31,
   "metadata": {
    "colab": {
     "autoexec": {
      "startup": false,
      "wait_interval": 0
     }
    },
    "colab_type": "code",
    "id": "wt08-HRT-v_E"
   },
   "outputs": [],
   "source": [
    "from skimage.feature import corner_harris, corner_subpix, corner_peaks"
   ]
  },
  {
   "cell_type": "code",
   "execution_count": 32,
   "metadata": {
    "colab": {
     "autoexec": {
      "startup": false,
      "wait_interval": 0
     }
    },
    "colab_type": "code",
    "id": "dkU9We4I-v_H",
    "outputId": "c650b852-e1a3-46c6-96c4-027b0b3dfc6b"
   },
   "outputs": [
    {
     "name": "stdout",
     "output_type": "stream",
     "text": [
      "Número de esquinas del cuadrado 4\n",
      "Número de esquinas del círculo 0\n",
      "Número de esquinas del triángulo  3\n"
     ]
    },
    {
     "name": "stderr",
     "output_type": "stream",
     "text": [
      "<ipython-input-32-e93b4e6e7180>:1: FutureWarning: Until version 0.16, threshold_rel was set to 0.1 by default. Starting from version 0.16, the default value is set to None. Until version 0.18, a None value corresponds to a threshold value of 0.1. The default behavior will match skimage.feature.peak_local_max. To avoid this warning, set threshold_rel=0.\n",
      "  NCD=len(corner_peaks(corner_harris(ACD), min_distance=5))\n",
      "<ipython-input-32-e93b4e6e7180>:2: FutureWarning: Until version 0.16, threshold_rel was set to 0.1 by default. Starting from version 0.16, the default value is set to None. Until version 0.18, a None value corresponds to a threshold value of 0.1. The default behavior will match skimage.feature.peak_local_max. To avoid this warning, set threshold_rel=0.\n",
      "  NCR=len(corner_peaks(corner_harris(ACR), min_distance=5))\n",
      "<ipython-input-32-e93b4e6e7180>:3: FutureWarning: Until version 0.16, threshold_rel was set to 0.1 by default. Starting from version 0.16, the default value is set to None. Until version 0.18, a None value corresponds to a threshold value of 0.1. The default behavior will match skimage.feature.peak_local_max. To avoid this warning, set threshold_rel=0.\n",
      "  NTR=len(corner_peaks(corner_harris(ATR), min_distance=5))\n"
     ]
    }
   ],
   "source": [
    "NCD=len(corner_peaks(corner_harris(ACD), min_distance=5))\n",
    "NCR=len(corner_peaks(corner_harris(ACR), min_distance=5))\n",
    "NTR=len(corner_peaks(corner_harris(ATR), min_distance=5))\n",
    "print(\"Número de esquinas del cuadrado {}\".format(NCD))\n",
    "print(\"Número de esquinas del círculo {}\".format(NCR))\n",
    "print(\"Número de esquinas del triángulo  {}\".format(NTR))"
   ]
  },
  {
   "cell_type": "markdown",
   "metadata": {
    "colab_type": "text",
    "id": "jlQJdlFG-v_L"
   },
   "source": [
    "Ventajas  de usar el área como descriptor \n",
    "- Es invariante a la posición de la figura \n",
    "- Es invariante a cambios en el tamaño\n",
    "\n",
    "Limitantes de usar el área como descriptor \n",
    "- No permite diferenciar entre figuras con el mismo número de esquinas  cómo cuadrados y rectángulos\n",
    "- El metodo de extraccion de caracteristicas falla en casos en donde las figuras tienen bordes irregulares como las figuras trazadas  a mano \n",
    "\n",
    "<img src='cuadroMT.png' width=\"40%\" height=\"40%\" />"
   ]
  },
  {
   "cell_type": "code",
   "execution_count": 34,
   "metadata": {
    "colab": {
     "autoexec": {
      "startup": false,
      "wait_interval": 0
     }
    },
    "colab_type": "code",
    "id": "IQzj2JIJ-v_L",
    "outputId": "82e16fa1-c362-4950-b9b8-b8d71e4761b8"
   },
   "outputs": [
    {
     "name": "stderr",
     "output_type": "stream",
     "text": [
      "<ipython-input-34-3a5c2d70979c>:5: FutureWarning: Until version 0.16, threshold_rel was set to 0.1 by default. Starting from version 0.16, the default value is set to None. Until version 0.18, a None value corresponds to a threshold value of 0.1. The default behavior will match skimage.feature.peak_local_max. To avoid this warning, set threshold_rel=0.\n",
      "  len(corner_peaks(corner_harris(ACDD), min_distance=5))\n"
     ]
    },
    {
     "data": {
      "text/plain": [
       "12"
      ]
     },
     "execution_count": 34,
     "metadata": {},
     "output_type": "execute_result"
    }
   ],
   "source": [
    "#Contra Ejemplo\n",
    "CDD=os.path.join(\"images/cuadroMT.png\")\n",
    "CadD = Image.open(CDD).convert('L')\n",
    "ACDD=np.array(CadD)\n",
    "len(corner_peaks(corner_harris(ACDD), min_distance=5))"
   ]
  },
  {
   "cell_type": "markdown",
   "metadata": {
    "colab_type": "text",
    "id": "UZLMDU4W-v_O"
   },
   "source": [
    "### Usando un descriptor invariante \n",
    "\n",
    "El problema de identificación de formas se ha estudiado durante mucho tiempo, como resultado se han propuesto metodologías de extracción de características invariantes a rotación, traslación y escalamiento. Estas características son los momentos invariables de Hu.\n",
    "\n",
    "Para mayor detalle favor de consultar el capítulo de extracción de características del libro Gonzalez & Woods, Digital Image Processing\n",
    "\n",
    "http://www.sc.ehu.es/ccwgrrom/transparencias/pdf-vision-1-transparencias/capitulo-8.pdf"
   ]
  },
  {
   "cell_type": "markdown",
   "metadata": {
    "colab_type": "text",
    "id": "L4jPzEBP-v_Q"
   },
   "source": []
  },
  {
   "cell_type": "code",
   "execution_count": 35,
   "metadata": {
    "colab": {
     "autoexec": {
      "startup": false,
      "wait_interval": 0
     }
    },
    "colab_type": "code",
    "id": "O11ZezK5-v_Q",
    "outputId": "b588e902-944c-4f04-c5da-7d8aaa21326f"
   },
   "outputs": [
    {
     "name": "stdout",
     "output_type": "stream",
     "text": [
      "255\n"
     ]
    },
    {
     "data": {
      "image/png": "[encoded data removed]",
      "text/plain": [
       "<Figure size 432x288 with 1 Axes>"
      ]
     },
     "metadata": {
      "needs_background": "light"
     },
     "output_type": "display_data"
    }
   ],
   "source": [
    "#  Proceso para aplicar los momentos de hu\n",
    "# Invertir los colores de la imagen \n",
    "ICD=ski.util.invert(ACD)\n",
    "print(ICD[100,100])\n",
    "plt.imshow(ICD,cmap='gray')\n",
    "plt.show()"
   ]
  },
  {
   "cell_type": "code",
   "execution_count": 36,
   "metadata": {
    "colab": {
     "autoexec": {
      "startup": false,
      "wait_interval": 0
     }
    },
    "colab_type": "code",
    "id": "TW3ZN5wn-v_T"
   },
   "outputs": [],
   "source": [
    "def umbral_image(img):\n",
    "    x,y=img.shape\n",
    "    z=np.zeros((x,y))\n",
    "    for i in range(x):\n",
    "        for j in range(y):\n",
    "            if img[i,j]>25:\n",
    "                z[i,j]=250\n",
    "    return z"
   ]
  },
  {
   "cell_type": "code",
   "execution_count": 38,
   "metadata": {
    "colab": {
     "autoexec": {
      "startup": false,
      "wait_interval": 0
     }
    },
    "colab_type": "code",
    "id": "fDtcGJ-h-v_W",
    "outputId": "812355e4-b3fd-4ebf-fdf3-1c13d011b7d4"
   },
   "outputs": [
    {
     "name": "stderr",
     "output_type": "stream",
     "text": [
      "<ipython-input-38-11fb07f56f8b>:4: FutureWarning: The new recommended value for bg_label is 0. Until version 0.19, the default bg_label value is -1. From version 0.19, the bg_label default value will be 0. To avoid this warning, please explicitly set bg_label value.\n",
      "  plt.imshow(ski.color.label2rgb(label_image))\n"
     ]
    },
    {
     "data": {
      "image/png": "[encoded data removed]",
      "text/plain": [
       "<Figure size 432x288 with 1 Axes>"
      ]
     },
     "metadata": {
      "needs_background": "light"
     },
     "output_type": "display_data"
    }
   ],
   "source": [
    "# Binarizar imagen \n",
    "CD=umbral_image(ICD)\n",
    "label_image=ski.measure.label(ICD)\n",
    "plt.imshow(ski.color.label2rgb(label_image))\n",
    "plt.show()\n"
   ]
  },
  {
   "cell_type": "code",
   "execution_count": 39,
   "metadata": {
    "colab": {
     "autoexec": {
      "startup": false,
      "wait_interval": 0
     }
    },
    "colab_type": "code",
    "id": "O4uBGwBm-v_e",
    "outputId": "9b7ebdb4-c00c-489d-9a46-d95f3d9e1be7"
   },
   "outputs": [
    {
     "name": "stdout",
     "output_type": "stream",
     "text": [
      "area 10000\n",
      "bbox (50, 50, 150, 150)\n",
      "bbox_area 10000\n",
      "centroid (99.5, 99.5)\n",
      "convex_area 10000\n",
      "convex_image [[ True  True  True ...  True  True  True]\n",
      " [ True  True  True ...  True  True  True]\n",
      " [ True  True  True ...  True  True  True]\n",
      " ...\n",
      " [ True  True  True ...  True  True  True]\n",
      " [ True  True  True ...  True  True  True]\n",
      " [ True  True  True ...  True  True  True]]\n",
      "coords [[ 50  50]\n",
      " [ 50  51]\n",
      " [ 50  52]\n",
      " ...\n",
      " [149 147]\n",
      " [149 148]\n",
      " [149 149]]\n",
      "eccentricity 0.0\n",
      "equivalent_diameter 112.83791670955127\n",
      "euler_number 1\n",
      "extent 1.0\n",
      "filled_area 10000\n",
      "filled_image [[ True  True  True ...  True  True  True]\n",
      " [ True  True  True ...  True  True  True]\n",
      " [ True  True  True ...  True  True  True]\n",
      " ...\n",
      " [ True  True  True ...  True  True  True]\n",
      " [ True  True  True ...  True  True  True]\n",
      " [ True  True  True ...  True  True  True]]\n",
      "image [[ True  True  True ...  True  True  True]\n",
      " [ True  True  True ...  True  True  True]\n",
      " [ True  True  True ...  True  True  True]\n",
      " ...\n",
      " [ True  True  True ...  True  True  True]\n",
      " [ True  True  True ...  True  True  True]\n",
      " [ True  True  True ...  True  True  True]]\n",
      "inertia_tensor [[833.25  -0.  ]\n",
      " [ -0.   833.25]]\n",
      "inertia_tensor_eigvals [833.25, 833.25]\n",
      "label 1\n",
      "local_centroid (49.5, 49.5)\n",
      "major_axis_length 115.46428019088847\n",
      "minor_axis_length 115.46428019088847\n",
      "moments [[1.00000000e+04 4.95000000e+05 3.28350000e+07 2.45025000e+09]\n",
      " [4.95000000e+05 2.45025000e+07 1.62533250e+09 1.21287375e+11]\n",
      " [3.28350000e+07 1.62533250e+09 1.07813722e+11 8.04539588e+12]\n",
      " [2.45025000e+09 1.21287375e+11 8.04539588e+12 6.00372506e+14]]\n",
      "moments_central [[1.00000000e+04 0.00000000e+00 8.33250000e+06 0.00000000e+00]\n",
      " [0.00000000e+00 0.00000000e+00 0.00000000e+00 0.00000000e+00]\n",
      " [8.33250000e+06 0.00000000e+00 6.94305562e+09 0.00000000e+00]\n",
      " [0.00000000e+00 0.00000000e+00 0.00000000e+00 0.00000000e+00]]\n",
      "moments_hu [0.16665 0.      0.      0.      0.      0.      0.     ]\n",
      "moments_normalized [[       nan        nan 0.083325   0.        ]\n",
      " [       nan 0.         0.         0.        ]\n",
      " [0.083325   0.         0.00694306 0.        ]\n",
      " [0.         0.         0.         0.        ]]\n",
      "orientation 0.7853981633974483\n",
      "perimeter 396.0\n",
      "slice (slice(50, 150, None), slice(50, 150, None))\n",
      "solidity 1.0\n"
     ]
    }
   ],
   "source": [
    "# Calcular las propiedades de la figura\n",
    "regions = ski.measure.regionprops(label_image)\n",
    "for prop in regions[0]:\n",
    "    print(prop, regions[0][prop])"
   ]
  },
  {
   "cell_type": "code",
   "execution_count": 40,
   "metadata": {
    "colab": {
     "autoexec": {
      "startup": false,
      "wait_interval": 0
     }
    },
    "colab_type": "code",
    "id": "zLyws-wz-v_h"
   },
   "outputs": [],
   "source": [
    "# Obtener la propiedad de interés\n",
    "momento =regions[0].moments_hu"
   ]
  },
  {
   "cell_type": "code",
   "execution_count": 41,
   "metadata": {},
   "outputs": [
    {
     "data": {
      "text/plain": [
       "array([0.16665, 0.     , 0.     , 0.     , 0.     , 0.     , 0.     ])"
      ]
     },
     "execution_count": 41,
     "metadata": {},
     "output_type": "execute_result"
    }
   ],
   "source": [
    "momento"
   ]
  },
  {
   "cell_type": "code",
   "execution_count": 42,
   "metadata": {
    "colab": {
     "autoexec": {
      "startup": false,
      "wait_interval": 0
     }
    },
    "colab_type": "code",
    "id": "gupXzJx_-v_j"
   },
   "outputs": [],
   "source": [
    "# Creando una función para extraer los momentos de hu \n",
    "def hu_Characteristics(img):\n",
    "    Iing=ski.util.invert(img)\n",
    "    Uing=umbral_image(Iing)\n",
    "    label_image=ski.measure.label(Uing)\n",
    "    regions = ski.measure.regionprops(label_image)\n",
    "    momento =regions[0].moments_hu\n",
    "    return momento"
   ]
  },
  {
   "cell_type": "code",
   "execution_count": 43,
   "metadata": {
    "colab": {
     "autoexec": {
      "startup": false,
      "wait_interval": 0
     }
    },
    "colab_type": "code",
    "id": "VBt4hmua-v_m",
    "outputId": "ede28ddf-4fb3-4d3c-f69b-98ea8982ad2b"
   },
   "outputs": [
    {
     "name": "stdout",
     "output_type": "stream",
     "text": [
      "Momentos del cuadrado [0.16665 0.      0.      0.      0.      0.      0.     ]\n",
      "Momentos del círculo [0.15915634 0.         0.         0.         0.         0.\n",
      " 0.        ]\n",
      "Momentos del triángulo   [ 2.22178218e-01  1.23407901e-02  5.48493137e-03  2.19397255e-04\n",
      " -2.40675777e-07 -2.43726455e-05  0.00000000e+00]\n"
     ]
    }
   ],
   "source": [
    "print(\"Momentos del cuadrado {}\".format(hu_Characteristics(ACD)))\n",
    "print(\"Momentos del círculo {}\".format(hu_Characteristics(ACR)))\n",
    "print(\"Momentos del triángulo   {}\".format(hu_Characteristics(ATR)))"
   ]
  },
  {
   "cell_type": "markdown",
   "metadata": {
    "colab_type": "text",
    "id": "vznHVSTL-v_s"
   },
   "source": [
    "## Preparando los datos\n",
    "\n",
    "Para este primer caso usaremos aprendizaje supervisado,los datos de entrenamiento consisten en pares ordenados donde hay una lista de entradas y una lista de salidas \n",
    "\n",
    "### entradas\n",
    "x=[[0,0,0],[1,0,0],[0,0,1]]\n",
    "\n",
    "### Salidas \n",
    "\n",
    "(Necesario codificarlas) \n",
    "- Cuadro=1,0,0\n",
    "- Triángulo=0,1,0\n",
    "- Círculo=0,0,1\n",
    "\n",
    "y=[[1,0,0],[0,1,0],[0,0,1]]"
   ]
  },
  {
   "cell_type": "code",
   "execution_count": 44,
   "metadata": {
    "colab": {
     "autoexec": {
      "startup": false,
      "wait_interval": 0
     }
    },
    "colab_type": "code",
    "id": "GsVr1ao5-v_t"
   },
   "outputs": [],
   "source": [
    "def Lector_forma(Train_dir,jsonfile):\n",
    "    Train_data=[]\n",
    "    Tags=[]\n",
    "    with open(jsonfile) as data_file:    \n",
    "         etiquetas = json.load(data_file)\n",
    "    for img in os.listdir(Train_dir):\n",
    "        try : \n",
    "            imgtag=etiquetas[img]\n",
    "            Tags.append(imgtag)\n",
    "        except :\n",
    "            print(\"Tag error: \"+img)\n",
    "        try : \n",
    "            imgpath=os.path.join(Train_dir,img)\n",
    "            img = Image.open(imgpath).convert('L')\n",
    "            Train_data.append(hu_Characteristics(np.array(img))) \n",
    "        except :\n",
    "            print(\"file error: \"+img)\n",
    "        #np.save(file+\".npy\",Train_data)\n",
    "    return np.array(Train_data),Tags "
   ]
  },
  {
   "cell_type": "code",
   "execution_count": 45,
   "metadata": {
    "colab": {
     "autoexec": {
      "startup": false,
      "wait_interval": 0
     }
    },
    "colab_type": "code",
    "id": "8ok_VatM-v_v",
    "outputId": "7bf05a52-b0b4-49c2-f558-9d153532442c"
   },
   "outputs": [
    {
     "name": "stdout",
     "output_type": "stream",
     "text": [
      "Tag error: .ipynb_checkpoints\n",
      "file error: .ipynb_checkpoints\n",
      "Tag error: desktop.ini\n",
      "file error: desktop.ini\n"
     ]
    }
   ],
   "source": [
    "X_train,y_train=Lector_forma(\"images/Forma/Train\",\"Train_forma.json\")"
   ]
  },
  {
   "cell_type": "code",
   "execution_count": 46,
   "metadata": {
    "colab": {
     "autoexec": {
      "startup": false,
      "wait_interval": 0
     }
    },
    "colab_type": "code",
    "id": "AiHCzT5p-v_1",
    "outputId": "48272237-e826-40ea-d48c-8430daf506b0"
   },
   "outputs": [
    {
     "name": "stdout",
     "output_type": "stream",
     "text": [
      "Tag error: .ipynb_checkpoints\n",
      "file error: .ipynb_checkpoints\n",
      "Tag error: desktop.ini\n",
      "file error: desktop.ini\n"
     ]
    }
   ],
   "source": [
    "X_test,y_test=Lector_forma(\"images/Forma/Test\",\"Test_forma.json\")"
   ]
  },
  {
   "cell_type": "code",
   "execution_count": 47,
   "metadata": {
    "colab": {
     "autoexec": {
      "startup": false,
      "wait_interval": 0
     }
    },
    "colab_type": "code",
    "id": "9ijhj-V--v_6",
    "outputId": "3a1e64fa-b9ab-45df-bdc1-6bae2c873c81"
   },
   "outputs": [
    {
     "data": {
      "text/plain": [
       "array([[ 2.40502176e-01,  2.13045937e-02,  5.66413415e-03,\n",
       "         3.02272974e-04, -3.81185816e-07, -4.27862096e-05,\n",
       "        -1.05505906e-07],\n",
       "       [ 1.66655195e-01,  5.48324558e-06,  9.52609947e-07,\n",
       "         1.02388324e-07,  1.53981320e-14,  2.02827505e-10,\n",
       "        -2.80250751e-14],\n",
       "       [ 2.02886444e-01,  4.33109840e-03,  4.77973530e-03,\n",
       "         1.47320455e-04,  1.19870140e-07,  9.04763748e-06,\n",
       "        -3.02258185e-08],\n",
       "       [ 2.35452087e-01,  1.86965763e-02,  5.78921379e-03,\n",
       "         4.93699889e-04,  4.27088289e-07,  1.67515892e-05,\n",
       "         7.17102522e-07],\n",
       "       [ 1.59901163e-01,  2.20295717e-04,  4.92750219e-07,\n",
       "         1.44698529e-09,  1.99642227e-17,  8.86164086e-12,\n",
       "        -3.30800562e-17],\n",
       "       [ 2.59405326e-01,  3.09133916e-02,  6.13880006e-03,\n",
       "         3.98169636e-04, -5.95128918e-07, -6.77211927e-05,\n",
       "         1.82581552e-07],\n",
       "       [ 1.66719514e-01,  1.39508895e-05,  1.05831946e-06,\n",
       "         1.17762518e-07, -2.37733945e-14,  2.04361853e-10,\n",
       "         3.41057319e-14],\n",
       "       [ 1.59365801e-01,  4.76775209e-05,  1.36881255e-06,\n",
       "         7.57078859e-10, -7.09176749e-18, -2.02090145e-12,\n",
       "        -2.33169616e-17],\n",
       "       [ 1.59580345e-01,  1.22590153e-04,  1.43446796e-06,\n",
       "         1.61082894e-09, -5.62658680e-17, -1.48285523e-11,\n",
       "        -5.31962535e-17],\n",
       "       [ 1.66774896e-01,  1.67274291e-05,  1.49524974e-06,\n",
       "         1.69839736e-07, -2.04810513e-14,  4.38734220e-10,\n",
       "        -8.31019358e-14],\n",
       "       [ 1.66992852e-01,  1.15236999e-04,  1.27895756e-06,\n",
       "         1.36204460e-07, -1.17570826e-14, -9.08052061e-10,\n",
       "        -5.56189192e-14],\n",
       "       [ 1.59223744e-01,  1.36265771e-05,  5.01660805e-07,\n",
       "         1.21206297e-10,  9.93178395e-20,  1.21035462e-13,\n",
       "         9.39900039e-19]])"
      ]
     },
     "execution_count": 47,
     "metadata": {},
     "output_type": "execute_result"
    }
   ],
   "source": [
    "X_train"
   ]
  },
  {
   "cell_type": "markdown",
   "metadata": {
    "colab_type": "text",
    "id": "ukJggvb7-v_9"
   },
   "source": [
    "## Ajustar Parámetros del modelo"
   ]
  },
  {
   "cell_type": "code",
   "execution_count": 48,
   "metadata": {
    "colab": {
     "autoexec": {
      "startup": false,
      "wait_interval": 0
     }
    },
    "colab_type": "code",
    "id": "8dPipOnK-v_-"
   },
   "outputs": [],
   "source": [
    "clforma = MLPClassifier(solver='lbfgs', alpha=1e-2,\n",
    "                  hidden_layer_sizes=(10, 3), random_state=1)"
   ]
  },
  {
   "cell_type": "markdown",
   "metadata": {
    "colab_type": "text",
    "id": "AAKKUbVT-wAB"
   },
   "source": [
    "## Ajuste del modelo"
   ]
  },
  {
   "cell_type": "code",
   "execution_count": 49,
   "metadata": {
    "colab": {
     "autoexec": {
      "startup": false,
      "wait_interval": 0
     }
    },
    "colab_type": "code",
    "id": "Xns_pya_-wAB",
    "outputId": "495a479a-765a-4d90-fb3b-934738e60384"
   },
   "outputs": [
    {
     "name": "stderr",
     "output_type": "stream",
     "text": [
      "/home/fraga/anaconda3/lib/python3.8/site-packages/sklearn/neural_network/_multilayer_perceptron.py:471: ConvergenceWarning: lbfgs failed to converge (status=1):\n",
      "STOP: TOTAL NO. of ITERATIONS REACHED LIMIT.\n",
      "\n",
      "Increase the number of iterations (max_iter) or scale the data as shown in:\n",
      "    https://scikit-learn.org/stable/modules/preprocessing.html\n",
      "  self.n_iter_ = _check_optimize_result(\"lbfgs\", opt_res, self.max_iter)\n"
     ]
    },
    {
     "data": {
      "text/plain": [
       "MLPClassifier(alpha=0.01, hidden_layer_sizes=(10, 3), random_state=1,\n",
       "              solver='lbfgs')"
      ]
     },
     "execution_count": 49,
     "metadata": {},
     "output_type": "execute_result"
    }
   ],
   "source": [
    "clforma.fit(X_train,y_train)"
   ]
  },
  {
   "cell_type": "code",
   "execution_count": 50,
   "metadata": {
    "colab": {
     "autoexec": {
      "startup": false,
      "wait_interval": 0
     }
    },
    "colab_type": "code",
    "id": "nnI5P95l-wAE"
   },
   "outputs": [],
   "source": [
    "pred = clforma.predict(X_test)"
   ]
  },
  {
   "cell_type": "markdown",
   "metadata": {
    "colab_type": "text",
    "id": "yQEOT4AW-wAG"
   },
   "source": [
    "## Evaluar al modelo "
   ]
  },
  {
   "cell_type": "code",
   "execution_count": 51,
   "metadata": {
    "colab": {
     "autoexec": {
      "startup": false,
      "wait_interval": 0
     }
    },
    "colab_type": "code",
    "id": "JmtN3NPT-wAH",
    "outputId": "73792d74-5f23-4ad6-d340-068f7855e474"
   },
   "outputs": [
    {
     "name": "stdout",
     "output_type": "stream",
     "text": [
      "[1, 0, 1, 0, 0, 0]\n",
      "[1, 2, 1, 2, 0, 0]\n"
     ]
    }
   ],
   "source": [
    "predclass=ClassDetector(pred)\n",
    "yclass=ClassDetector(y_test)\n",
    "print(predclass)\n",
    "print(yclass)"
   ]
  },
  {
   "cell_type": "code",
   "execution_count": 52,
   "metadata": {
    "colab": {
     "autoexec": {
      "startup": false,
      "wait_interval": 0
     }
    },
    "colab_type": "code",
    "id": "0V7K7mn--wAK",
    "outputId": "d7a262a9-d96b-4d7a-9a3d-30d65fcb74c6"
   },
   "outputs": [
    {
     "name": "stdout",
     "output_type": "stream",
     "text": [
      "0.6666666666666666\n"
     ]
    }
   ],
   "source": [
    "print(accuracy_score(predclass,yclass)) "
   ]
  },
  {
   "cell_type": "code",
   "execution_count": 53,
   "metadata": {
    "colab": {
     "autoexec": {
      "startup": false,
      "wait_interval": 0
     }
    },
    "colab_type": "code",
    "id": "-eQ0xERH-wAN",
    "outputId": "25f6b6f4-3177-400a-96ef-009830ddfe6a"
   },
   "outputs": [
    {
     "name": "stdout",
     "output_type": "stream",
     "text": [
      "[[2 0 2]\n",
      " [0 2 0]\n",
      " [0 0 0]]\n"
     ]
    }
   ],
   "source": [
    "print(confusion_matrix(predclass,yclass))"
   ]
  },
  {
   "cell_type": "markdown",
   "metadata": {
    "colab": {
     "autoexec": {
      "startup": false,
      "wait_interval": 0
     }
    },
    "colab_type": "code",
    "id": "RcD_nXER-wAQ"
   },
   "source": [
    "# Implementar el modelo"
   ]
  },
  {
   "cell_type": "code",
   "execution_count": 55,
   "metadata": {
    "collapsed": true,
    "jupyter": {
     "outputs_hidden": true
    }
   },
   "outputs": [],
   "source": [
    "from sklearn.externals import joblib"
   ]
  },
  {
   "cell_type": "code",
   "execution_count": 56,
   "metadata": {},
   "outputs": [
    {
     "data": {
      "text/plain": [
       "['clforma_model.sav']"
      ]
     },
     "execution_count": 56,
     "metadata": {},
     "output_type": "execute_result"
    }
   ],
   "source": [
    "filename = 'clforma_model.sav'\n",
    "joblib.dump(clforma, filename)"
   ]
  },
  {
   "cell_type": "code",
   "execution_count": 57,
   "metadata": {
    "collapsed": true,
    "jupyter": {
     "outputs_hidden": true
    }
   },
   "outputs": [],
   "source": [
    "loaded_model = joblib.load(filename)\n"
   ]
  },
  {
   "cell_type": "code",
   "execution_count": 61,
   "metadata": {
    "collapsed": true,
    "jupyter": {
     "outputs_hidden": true
    }
   },
   "outputs": [],
   "source": [
    "load_predict=loaded_model.predict(X_test)"
   ]
  },
  {
   "cell_type": "code",
   "execution_count": 62,
   "metadata": {},
   "outputs": [
    {
     "data": {
      "text/plain": [
       "[0, 0, 1, 1, 0, 0]"
      ]
     },
     "execution_count": 62,
     "metadata": {},
     "output_type": "execute_result"
    }
   ],
   "source": [
    "ClassDetector(load_predict)"
   ]
  },
  {
   "cell_type": "code",
   "execution_count": null,
   "metadata": {
    "collapsed": true,
    "jupyter": {
     "outputs_hidden": true
    }
   },
   "outputs": [],
   "source": []
  }
 ],
 "metadata": {
  "colab": {
   "default_view": {},
   "name": "Color-hu.ipynb",
   "provenance": [],
   "version": "0.3.2",
   "views": {}
  },
  "kernelspec": {
   "display_name": "Python 3",
   "language": "python",
   "name": "python3"
  },
  "language_info": {
   "codemirror_mode": {
    "name": "ipython",
    "version": 3
   },
   "file_extension": ".py",
   "mimetype": "text/x-python",
   "name": "python",
   "nbconvert_exporter": "python",
   "pygments_lexer": "ipython3",
   "version": "3.8.5"
  }
 },
 "nbformat": 4,
 "nbformat_minor": 4
}
