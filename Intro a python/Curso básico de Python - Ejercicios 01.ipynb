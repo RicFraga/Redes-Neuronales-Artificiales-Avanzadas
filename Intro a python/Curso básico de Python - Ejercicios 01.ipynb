{
 "cells": [
  {
   "cell_type": "markdown",
   "metadata": {
    "id": "6ht5OgLdV0VD"
   },
   "source": [
    "# Python Crash Course Exercises \n",
    "\n"
   ]
  },
  {
   "cell_type": "markdown",
   "metadata": {
    "id": "yevaqoY0V0VH"
   },
   "source": [
    "## Ejercicios 01 - DeepDaemon - Junio 2018\n",
    "\n",
    "Contesta las siguientes preguntas o completa las tareas marcadas en negritas que se presentan a continuación, utiliza el método especificado cuando se indique.\n"
   ]
  },
  {
   "cell_type": "markdown",
   "metadata": {
    "id": "cm6HEmtRV0VI"
   },
   "source": [
    "** ¿Cuánto es 8 elevado a la 5?**"
   ]
  },
  {
   "cell_type": "code",
   "execution_count": 1,
   "metadata": {
    "id": "JNYMHCwLV0VI",
    "outputId": "488d4534-e4a4-4387-d942-1cac4616248e"
   },
   "outputs": [
    {
     "data": {
      "text/plain": [
       "32768"
      ]
     },
     "execution_count": 1,
     "metadata": {},
     "output_type": "execute_result"
    }
   ],
   "source": [
    "import numpy as np\n",
    "\n",
    "np.power(8, 5)"
   ]
  },
  {
   "cell_type": "markdown",
   "metadata": {
    "id": "wgqCovMDV0VJ"
   },
   "source": [
    "** Separa la siguiente cadena:**\n",
    "\n",
    "    s = \"¡Estoy en el curso de Ford!\"\n",
    "    \n",
    "**en una lista. **"
   ]
  },
  {
   "cell_type": "code",
   "execution_count": 2,
   "metadata": {
    "id": "3TVcY-eiV0VK"
   },
   "outputs": [
    {
     "data": {
      "text/plain": [
       "['¡Estoy', 'en', 'el', 'curso', 'de', 'Ford!']"
      ]
     },
     "execution_count": 2,
     "metadata": {},
     "output_type": "execute_result"
    }
   ],
   "source": [
    "s = \"¡Estoy en el curso de Ford!\"\n",
    "s.split(' ')"
   ]
  },
  {
   "cell_type": "markdown",
   "metadata": {
    "id": "IiL7WSazV0VK"
   },
   "source": [
    "** Dadas las siguientes variables:**\n",
    "\n",
    "    planeta = \"Tierra\"\n",
    "    diametro = 12742\n",
    "\n",
    "** Use .format() para imprimir el la siguiente cadena: **\n",
    "\n",
    "    El diámetro de la Tierra es 12742 kilometros."
   ]
  },
  {
   "cell_type": "code",
   "execution_count": 3,
   "metadata": {
    "id": "iEZCEpx_V0VK"
   },
   "outputs": [],
   "source": [
    "planeta = \"Tierra\"\n",
    "diametro = \"12742\""
   ]
  },
  {
   "cell_type": "code",
   "execution_count": 4,
   "metadata": {
    "id": "4Yer5tzQV0VL",
    "outputId": "35ec41be-0605-43bd-db33-70397441e5ce"
   },
   "outputs": [
    {
     "name": "stdout",
     "output_type": "stream",
     "text": [
      "El diámetro de la Tierra es 12742 kilómetros\n"
     ]
    }
   ],
   "source": [
    "print(\"El diámetro de la {} es {} kilómetros\".format(planeta, diametro))"
   ]
  },
  {
   "cell_type": "markdown",
   "metadata": {
    "id": "T6A7o2PeV0VL"
   },
   "source": [
    "** Dada la siguiente lista anidada, utilice el indexado para extraer la palabra \"hola\" **"
   ]
  },
  {
   "cell_type": "code",
   "execution_count": 5,
   "metadata": {
    "id": "VEYkvJJUV0VL"
   },
   "outputs": [],
   "source": [
    "lst = [1,2,[3,4],[5,[100,200,['hola']],23,11],1,7]"
   ]
  },
  {
   "cell_type": "code",
   "execution_count": 6,
   "metadata": {
    "id": "tf8E0qwnV0VL",
    "outputId": "fc3d6629-7691-4386-8ed7-7f72575c3db7"
   },
   "outputs": [
    {
     "data": {
      "text/plain": [
       "['hola']"
      ]
     },
     "execution_count": 6,
     "metadata": {},
     "output_type": "execute_result"
    }
   ],
   "source": [
    "lst[3][1][2]"
   ]
  },
  {
   "cell_type": "markdown",
   "metadata": {
    "id": "VKXFKfAEV0VM"
   },
   "source": [
    "** Dado el siguiente diccionario aninado obtenga la palabra \"hola\". Este preparado, este ejecicio será molesto/difícil **"
   ]
  },
  {
   "cell_type": "code",
   "execution_count": 7,
   "metadata": {
    "id": "5okR-WvGV0VM"
   },
   "outputs": [],
   "source": [
    "d = {'k1':[1,2,3,{'dificíl':['oh','hombre','principio',{'objetivo':[1,2,3,'hola']}]}]}"
   ]
  },
  {
   "cell_type": "code",
   "execution_count": 8,
   "metadata": {
    "id": "lxXkYdgYV0VM",
    "outputId": "7ac91e4b-6a27-490d-8d8b-f7d67da550c7"
   },
   "outputs": [
    {
     "data": {
      "text/plain": [
       "'hola'"
      ]
     },
     "execution_count": 8,
     "metadata": {},
     "output_type": "execute_result"
    }
   ],
   "source": [
    "d['k1'][3]['dificíl'][3]['objetivo'][3]"
   ]
  },
  {
   "cell_type": "markdown",
   "metadata": {
    "id": "qN1zsfamV0VM"
   },
   "source": [
    "** ¿Cuál es la principal diferencia entre tupla y lista? **"
   ]
  },
  {
   "cell_type": "code",
   "execution_count": 9,
   "metadata": {
    "id": "zavXTF8YV0VM"
   },
   "outputs": [],
   "source": [
    "# La tupla es inmutable"
   ]
  },
  {
   "cell_type": "markdown",
   "metadata": {
    "id": "8n2zDB4BV0VN"
   },
   "source": [
    "** Escriba una función que capture el dominio del sitio web del correo electrónico a partir de una cadena con el siguiente formato: **\n",
    "\n",
    "    usuario@dominio.com\n",
    "    \n",
    "**Como ejemplo, del correo \"usuario@dominio.com\" deberá regresar: dominio.com**"
   ]
  },
  {
   "cell_type": "code",
   "execution_count": 10,
   "metadata": {
    "id": "DKhKibMlV0VN"
   },
   "outputs": [],
   "source": [
    "def domainGet(text):    \n",
    "    return text[text.find('@') + 1:]"
   ]
  },
  {
   "cell_type": "code",
   "execution_count": 11,
   "metadata": {
    "id": "IBDlsB3FV0VN",
    "outputId": "f8ccae82-07a4-4a63-8bc0-e5e08b44f99e"
   },
   "outputs": [
    {
     "data": {
      "text/plain": [
       "'domino.com'"
      ]
     },
     "execution_count": 11,
     "metadata": {},
     "output_type": "execute_result"
    }
   ],
   "source": [
    "domainGet('usuario@domino.com')"
   ]
  },
  {
   "cell_type": "markdown",
   "metadata": {
    "id": "TyK9M8FsV0VN"
   },
   "source": [
    "** Cree una función básica que devuelva Verdadero si la palabra 'perro' está contenida en la cadena de entrada. No se preocupe por los casos donde al final se adjunta alguna puntuación a la palabra perro, pero tome en cuenta las mayúsculas. **"
   ]
  },
  {
   "cell_type": "code",
   "execution_count": 12,
   "metadata": {
    "id": "iU8JwdAoV0VN"
   },
   "outputs": [],
   "source": [
    "def findDog(text):\n",
    "    return 'perro' in text        "
   ]
  },
  {
   "cell_type": "code",
   "execution_count": 13,
   "metadata": {
    "id": "7nxboUdjV0VO",
    "outputId": "ac202681-ea85-4a8e-d587-14b872905fe4"
   },
   "outputs": [
    {
     "data": {
      "text/plain": [
       "True"
      ]
     },
     "execution_count": 13,
     "metadata": {},
     "output_type": "execute_result"
    }
   ],
   "source": [
    "findDog('Hay un perro aquí?')"
   ]
  },
  {
   "cell_type": "markdown",
   "metadata": {
    "id": "D6vXL54nV0VO"
   },
   "source": [
    "** Crea una función que cuente la cantidad de veces que aparece la palabra \"perro\" en una cadena. Nuevamente ignore los casos donde al final se adjunta alguna puntuación. **"
   ]
  },
  {
   "cell_type": "code",
   "execution_count": 14,
   "metadata": {
    "id": "X8ujH_a_V0VO"
   },
   "outputs": [],
   "source": [
    "def countDog(text):\n",
    "    return len([word for word in text.split(' ') if word == 'perro'])"
   ]
  },
  {
   "cell_type": "code",
   "execution_count": 15,
   "metadata": {
    "id": "a8K4ea_zV0VO",
    "outputId": "f4b780ea-da46-4982-ef2e-70b68920d7c3"
   },
   "outputs": [
    {
     "data": {
      "text/plain": [
       "2"
      ]
     },
     "execution_count": 15,
     "metadata": {},
     "output_type": "execute_result"
    }
   ],
   "source": [
    "countDog('Este perro corre más rápido que el otro perro amigo!')"
   ]
  },
  {
   "cell_type": "markdown",
   "metadata": {
    "id": "rJMz0pLzV0VO"
   },
   "source": [
    "** Use expresiones lambda y la funcón filter() para filtrar de una lista aquellas palabras que no comiencen con la letra 's'. Por ejemplo:**\n",
    "\n",
    "    seq = ['sopa','perro','sierra','gato','estupendo']\n",
    "\n",
    "**should be filtered down to:**\n",
    "\n",
    "    ['sopa','sierra']"
   ]
  },
  {
   "cell_type": "code",
   "execution_count": 16,
   "metadata": {
    "id": "OSTFua5pV0VO"
   },
   "outputs": [],
   "source": [
    "seq = ['sopa','perro','sierra','gato','estupendo']"
   ]
  },
  {
   "cell_type": "code",
   "execution_count": 17,
   "metadata": {
    "id": "Qn6VQgdMV0VP",
    "outputId": "14482710-5adc-42ef-8f3d-6180719e9d8f"
   },
   "outputs": [
    {
     "data": {
      "text/plain": [
       "['sopa', 'sierra']"
      ]
     },
     "execution_count": 17,
     "metadata": {},
     "output_type": "execute_result"
    }
   ],
   "source": [
    "list(filter(lambda x: x[0] == 's', seq))"
   ]
  },
  {
   "cell_type": "markdown",
   "metadata": {
    "id": "qseZfeNEV0VP"
   },
   "source": [
    "### Problema final\n",
    "** Estás manejado y un policia te detiene. Escribe una función que regrese uno de los siguientes tres valores: \"Sin multa\", \"Multa pequeña\" o \"Multa grande\". Si tú velocidad es de 50 km o menor, el resultado será \"Sin multa\". Si tú velocidad está entre 51 km y 80 km, el resultado será \"Multa pequeña\". Si tú velocidad es de 81 km o mayor, el resultado será \"Multa grande\". Esto se cumplirá al menos que sea el día de tú cumpleaños (que será codificado como un valor booleano en los parámetros de la función) -- en tu cumpleaños tienes permitido que tú velocidad sea 5 km mayor en todos los casos. **"
   ]
  },
  {
   "cell_type": "code",
   "execution_count": 18,
   "metadata": {
    "id": "Yx-fx-GuV0VP"
   },
   "outputs": [],
   "source": [
    "def caught_speeding(velocidad, es_mi_cumpleaños):\n",
    "    holgura = 0\n",
    "    if(es_mi_cumpleaños):\n",
    "        holgura = 5\n",
    "    \n",
    "    if(velocidad <= (50 + holgura)):\n",
    "        return 'Sin multa'\n",
    "        \n",
    "    elif((velocidad >= (51 + holgura)) and (velocidad <= (80 + holgura))):\n",
    "        return 'Multa pequeña'\n",
    "        \n",
    "    elif(velocidad >= (81 + holgura)):\n",
    "        return 'Multa grande'"
   ]
  },
  {
   "cell_type": "code",
   "execution_count": 19,
   "metadata": {
    "id": "aQqwEWvgV0VP",
    "outputId": "e12834df-0bb4-4db9-ffdc-7c3aae136a49"
   },
   "outputs": [
    {
     "data": {
      "text/plain": [
       "'Multa pequeña'"
      ]
     },
     "execution_count": 19,
     "metadata": {},
     "output_type": "execute_result"
    }
   ],
   "source": [
    "caught_speeding(81,True)"
   ]
  },
  {
   "cell_type": "code",
   "execution_count": 20,
   "metadata": {
    "id": "KRTh36qfV0VP",
    "outputId": "147be3c6-ac2b-452f-9739-2a561abbdadb"
   },
   "outputs": [
    {
     "data": {
      "text/plain": [
       "'Multa grande'"
      ]
     },
     "execution_count": 20,
     "metadata": {},
     "output_type": "execute_result"
    }
   ],
   "source": [
    "caught_speeding(81,False)"
   ]
  },
  {
   "cell_type": "markdown",
   "metadata": {
    "id": "hd1ULLulV0VQ"
   },
   "source": [
    "# ¡Excelente trabajo!"
   ]
  },
  {
   "cell_type": "code",
   "execution_count": 21,
   "metadata": {
    "id": "qGg-YHbgV0VQ"
   },
   "outputs": [
    {
     "data": {
      "text/plain": [
       "'Gracias :D'"
      ]
     },
     "execution_count": 21,
     "metadata": {},
     "output_type": "execute_result"
    }
   ],
   "source": [
    "'Gracias :D'"
   ]
  },
  {
   "cell_type": "code",
   "execution_count": null,
   "metadata": {},
   "outputs": [],
   "source": []
  }
 ],
 "metadata": {
  "colab": {
   "name": "Curso básico de Python - Ejercicios 01.ipynb",
   "provenance": []
  },
  "kernelspec": {
   "display_name": "Python 3",
   "language": "python",
   "name": "python3"
  },
  "language_info": {
   "codemirror_mode": {
    "name": "ipython",
    "version": 3
   },
   "file_extension": ".py",
   "mimetype": "text/x-python",
   "name": "python",
   "nbconvert_exporter": "python",
   "pygments_lexer": "ipython3",
   "version": "3.8.5"
  }
 },
 "nbformat": 4,
 "nbformat_minor": 4
}
